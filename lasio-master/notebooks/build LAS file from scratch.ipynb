{
 "cells": [
  {
   "cell_type": "markdown",
   "metadata": {},
   "source": [
    "# Building a LAS file from scratch"
   ]
  },
  {
   "cell_type": "code",
   "execution_count": 1,
   "metadata": {
    "collapsed": false
   },
   "outputs": [],
   "source": [
    "import lasio\n",
    "\n",
    "import datetime\n",
    "import numpy\n",
    "import os\n",
    "import matplotlib.pyplot as plt\n",
    "%matplotlib inline"
   ]
  },
  {
   "cell_type": "markdown",
   "metadata": {},
   "source": [
    "## Step 1\n",
    "\n",
    "Create some fake data, and make some of the values at the bottom NULL (``numpy.nan``). Note that of course every curve in a LAS file is recorded against a reference/index, either depth or time, so we create that array too."
   ]
  },
  {
   "cell_type": "code",
   "execution_count": 2,
   "metadata": {
    "collapsed": false
   },
   "outputs": [],
   "source": [
    "depths = numpy.arange(10, 50, 0.5)\n",
    "fake_curve = numpy.random.random(len(depths))\n",
    "fake_curve[-10:] = numpy.nan   # Add some null values at the bottom"
   ]
  },
  {
   "cell_type": "code",
   "execution_count": 3,
   "metadata": {
    "collapsed": false
   },
   "outputs": [
    {
     "data": {
      "text/plain": [
       "[<matplotlib.lines.Line2D at 0xafdd2b0>]"
      ]
     },
     "execution_count": 3,
     "metadata": {},
     "output_type": "execute_result"
    },
    {
     "data": {
      "image/png": "[encoded data removed]",
      "text/plain": [
       "<matplotlib.figure.Figure at 0x3b07b70>"
      ]
     },
     "metadata": {},
     "output_type": "display_data"
    }
   ],
   "source": [
    "plt.plot(depths, fake_curve)"
   ]
  },
  {
   "cell_type": "markdown",
   "metadata": {},
   "source": [
    "## Step 2\n",
    "\n",
    "Create an empty LASFile object and review its header section"
   ]
  },
  {
   "cell_type": "code",
   "execution_count": 4,
   "metadata": {
    "collapsed": false,
    "scrolled": true
   },
   "outputs": [],
   "source": [
    "l = lasio.LASFile()"
   ]
  },
  {
   "cell_type": "code",
   "execution_count": 5,
   "metadata": {
    "collapsed": false,
    "scrolled": true
   },
   "outputs": [
    {
     "data": {
      "text/plain": [
       "{'Curves': [],\n",
       " 'Other': '',\n",
       " 'Parameter': [],\n",
       " 'Version': [HeaderItem(mnemonic=VERS, unit=, value=2.0, descr=CWLS log ASCII Standard -VERSION 2.0, original_mnemonic=VERS),\n",
       "  HeaderItem(mnemonic=WRAP, unit=, value=NO, descr=One line per depth step, original_mnemonic=WRAP),\n",
       "  HeaderItem(mnemonic=DLM, unit=, value=SPACE, descr=Column Data Section Delimiter, original_mnemonic=DLM)],\n",
       " 'Well': [HeaderItem(mnemonic=STRT, unit=m, value=nan, descr=START DEPTH, original_mnemonic=STRT),\n",
       "  HeaderItem(mnemonic=STOP, unit=m, value=nan, descr=STOP DEPTH, original_mnemonic=STOP),\n",
       "  HeaderItem(mnemonic=STEP, unit=m, value=nan, descr=STEP, original_mnemonic=STEP),\n",
       "  HeaderItem(mnemonic=NULL, unit=, value=-9999.25, descr=NULL VALUE, original_mnemonic=NULL),\n",
       "  HeaderItem(mnemonic=COMP, unit=, value=, descr=COMPANY, original_mnemonic=COMP),\n",
       "  HeaderItem(mnemonic=WELL, unit=, value=, descr=WELL, original_mnemonic=WELL),\n",
       "  HeaderItem(mnemonic=FLD, unit=, value=, descr=FIELD, original_mnemonic=FLD),\n",
       "  HeaderItem(mnemonic=LOC, unit=, value=, descr=LOCATION, original_mnemonic=LOC),\n",
       "  HeaderItem(mnemonic=PROV, unit=, value=, descr=PROVINCE, original_mnemonic=PROV),\n",
       "  HeaderItem(mnemonic=CNTY, unit=, value=, descr=COUNTY, original_mnemonic=CNTY),\n",
       "  HeaderItem(mnemonic=STAT, unit=, value=, descr=STATE, original_mnemonic=STAT),\n",
       "  HeaderItem(mnemonic=CTRY, unit=, value=, descr=COUNTRY, original_mnemonic=CTRY),\n",
       "  HeaderItem(mnemonic=SRVC, unit=, value=, descr=SERVICE COMPANY, original_mnemonic=SRVC),\n",
       "  HeaderItem(mnemonic=DATE, unit=, value=, descr=DATE, original_mnemonic=DATE),\n",
       "  HeaderItem(mnemonic=UWI, unit=, value=, descr=UNIQUE WELL ID, original_mnemonic=UWI),\n",
       "  HeaderItem(mnemonic=API, unit=, value=, descr=API NUMBER, original_mnemonic=API)]}"
      ]
     },
     "execution_count": 5,
     "metadata": {},
     "output_type": "execute_result"
    }
   ],
   "source": [
    "l.header"
   ]
  },
  {
   "cell_type": "markdown",
   "metadata": {},
   "source": [
    "Let's add some information to the header: \n",
    "\n",
    "- the date\n",
    "- the operator (in the Parameter section)\n",
    "- a description of the file in the Other section."
   ]
  },
  {
   "cell_type": "markdown",
   "metadata": {},
   "source": [
    "First, let's change the date."
   ]
  },
  {
   "cell_type": "code",
   "execution_count": 6,
   "metadata": {
    "collapsed": false
   },
   "outputs": [],
   "source": [
    "l.well.DATE = str(datetime.datetime.today())"
   ]
  },
  {
   "cell_type": "markdown",
   "metadata": {},
   "source": [
    "Next, let's make a new item in the ~Parameters section for the operator. To do this we need to make a new ``HeaderItem``:"
   ]
  },
  {
   "cell_type": "code",
   "execution_count": 7,
   "metadata": {
    "collapsed": false
   },
   "outputs": [],
   "source": [
    "l.params['ENGI'] = lasio.HeaderItem(\"ENGI\", \"\", \"kinverarity@hotmail.com\", \"Creator of this file...\")"
   ]
  },
  {
   "cell_type": "markdown",
   "metadata": {},
   "source": [
    "And finally, add some free text to the ~Other section:"
   ]
  },
  {
   "cell_type": "code",
   "execution_count": 8,
   "metadata": {
    "collapsed": false
   },
   "outputs": [],
   "source": [
    "l.other = \"Example of how to create a LAS file from scratch using lasio\""
   ]
  },
  {
   "cell_type": "markdown",
   "metadata": {},
   "source": [
    "## Step 3\n",
    "\n",
    "Add the curves to the LAS file using the ``add_curve`` method:"
   ]
  },
  {
   "cell_type": "code",
   "execution_count": 9,
   "metadata": {
    "collapsed": false
   },
   "outputs": [],
   "source": [
    "l.add_curve('DEPT', depths, unit='m')\n",
    "l.add_curve('FAKE_CURVE', fake_curve, descr='fake curve')"
   ]
  },
  {
   "cell_type": "markdown",
   "metadata": {},
   "source": [
    "## Step 4\n",
    "\n",
    "Now let's write out two files: one according to the LAS file specification version 1.2, and one according to 2.0. Note that by default an empty ``LASFile`` object is version 2.0."
   ]
  },
  {
   "cell_type": "code",
   "execution_count": 10,
   "metadata": {
    "collapsed": false,
    "scrolled": true
   },
   "outputs": [],
   "source": [
    "fn = \"scratch_example_v2.las\"\n",
    "with open(fn, mode=\"w\") as f: # Write LAS file to disk\n",
    "    l.write(f)"
   ]
  },
  {
   "cell_type": "markdown",
   "metadata": {},
   "source": [
    "and let's see if that worked"
   ]
  },
  {
   "cell_type": "code",
   "execution_count": 11,
   "metadata": {
    "collapsed": false,
    "scrolled": false
   },
   "outputs": [
    {
     "name": "stdout",
     "output_type": "stream",
     "text": [
      "~Version ---------------------------------------------------\n",
      "VERS.   2.0 : CWLS log ASCII Standard -VERSION 2.0\n",
      "WRAP.    NO : One line per depth step\n",
      "DLM . SPACE : Column Data Section Delimiter\n",
      "~Well ------------------------------------------------------\n",
      "STRT.m                      10.0 : START DEPTH\n",
      "STOP.m                      49.5 : STOP DEPTH\n",
      "STEP.m                       0.5 : STEP\n",
      "NULL.                   -9999.25 : NULL VALUE\n",
      "COMP.                            : COMPANY\n",
      "WELL.                            : WELL\n",
      "FLD .                            : FIELD\n",
      "LOC .                            : LOCATION\n",
      "PROV.                            : PROVINCE\n",
      "CNTY.                            : COUNTY\n",
      "STAT.                            : STATE\n",
      "CTRY.                            : COUNTRY\n",
      "SRVC.                            : SERVICE COMPANY\n",
      "DATE. 2016-02-13 16:52:39.445000 : DATE\n",
      "UWI .                            : UNIQUE WELL ID\n",
      "API .                            : API NUMBER\n",
      "~Curves ----------------------------------------------------\n",
      "DEPT      .m  : \n",
      "FAKE_CURVE.   : fake curve\n",
      "~Params ----------------------------------------------------\n",
      "ENGI. kinverarity@hotmail.com : Creator of this file...\n",
      "~Other -----------------------------------------------------\n",
      "Example of how to create a LAS file from scratch using lasio\n",
      "~ASCII -----------------------------------------------------\n",
      "         10   0.026008\n",
      "       10.5   0.056402\n",
      "         11    0.58473\n",
      "       11.5   0.062889\n",
      "         12   0.063426\n",
      "       12.5    0.38872\n",
      "         13    0.75342\n",
      "       13.5    0.93299\n",
      "         14    0.70876\n",
      "       14.5    0.21405\n",
      "         15      0.948\n",
      "       15.5    0.96069\n",
      "         16    0.95769\n",
      "       16.5    0.47167\n",
      "         17    0.92044\n",
      "       17.5    0.45118\n",
      "         18    0.41889\n",
      "       18.5    0.42029\n",
      "         19    0.30528\n",
      "       19.5    0.15235\n",
      "         20   0.088225\n",
      "       20.5    0.38494\n",
      "         21   0.026402\n",
      "       21.5    0.55415\n",
      "         22    0.33504\n",
      "       22.5    0.27227\n",
      "         23    0.15694\n",
      "       23.5    0.67574\n",
      "         24    0.61331\n",
      "       24.5    0.39824\n",
      "         25    0.12945\n",
      "       25.5    0.14877\n",
      "         26    0.93639\n",
      "       26.5     0.2013\n",
      "         27    0.76118\n",
      "       27.5    0.44274\n",
      "         28  0.0078593\n",
      "       28.5    0.86707\n",
      "         29   0.077415\n",
      "       29.5    0.61982\n",
      "         30    0.92987\n",
      "       30.5     0.4554\n",
      "         31    0.90304\n",
      "       31.5    0.23425\n",
      "         32    0.85763\n",
      "       32.5    0.03689\n",
      "         33    0.53212\n",
      "       33.5    0.48849\n",
      "         34    0.55165\n",
      "       34.5    0.55116\n",
      "         35  0.0071184\n",
      "       35.5    0.16983\n",
      "         36    0.82744\n",
      "       36.5    0.80642\n",
      "         37    0.46575\n",
      "       37.5    0.91243\n",
      "         38    0.72884\n",
      "       38.5    0.94173\n",
      "         39    0.16294\n",
      "       39.5    0.97191\n",
      "         40    0.25037\n",
      "       40.5    0.57772\n",
      "         41    0.40011\n",
      "       41.5    0.63539\n",
      "         42    0.70898\n",
      "       42.5   0.042878\n",
      "         43    0.20613\n",
      "       43.5    0.25082\n",
      "         44    0.75637\n",
      "       44.5    0.87049\n",
      "         45   -9999.25\n",
      "       45.5   -9999.25\n",
      "         46   -9999.25\n",
      "       46.5   -9999.25\n",
      "         47   -9999.25\n",
      "       47.5   -9999.25\n",
      "         48   -9999.25\n",
      "       48.5   -9999.25\n",
      "         49   -9999.25\n",
      "       49.5   -9999.25\n",
      "\n"
     ]
    }
   ],
   "source": [
    "with open(fn, mode=\"r\") as f: # Show the result... \n",
    "    print(f.read())"
   ]
  },
  {
   "cell_type": "code",
   "execution_count": 13,
   "metadata": {
    "collapsed": false
   },
   "outputs": [
    {
     "data": {
      "text/plain": [
       "[<matplotlib.lines.Line2D at 0xb4d0a90>]"
      ]
     },
     "execution_count": 13,
     "metadata": {},
     "output_type": "execute_result"
    },
    {
     "data": {
      "image/png": "[encoded data removed]",
      "text/plain": [
       "<matplotlib.figure.Figure at 0xb46eb38>"
      ]
     },
     "metadata": {},
     "output_type": "display_data"
    }
   ],
   "source": [
    "plt.plot(l['DEPT'], l['FAKE_CURVE'])"
   ]
  },
  {
   "cell_type": "code",
   "execution_count": 14,
   "metadata": {
    "collapsed": false
   },
   "outputs": [],
   "source": [
    "os.remove(fn)"
   ]
  },
  {
   "cell_type": "code",
   "execution_count": null,
   "metadata": {
    "collapsed": true
   },
   "outputs": [],
   "source": []
  }
 ],
 "metadata": {
  "kernelspec": {
   "display_name": "Python 2",
   "language": "python",
   "name": "python2"
  },
  "language_info": {
   "codemirror_mode": {
    "name": "ipython",
    "version": 2
   },
   "file_extension": ".py",
   "mimetype": "text/x-python",
   "name": "python",
   "nbconvert_exporter": "python",
   "pygments_lexer": "ipython2",
   "version": "2.7.11"
  }
 },
 "nbformat": 4,
 "nbformat_minor": 0
}
